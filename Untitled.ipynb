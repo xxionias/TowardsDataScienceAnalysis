{
 "cells": [
  {
   "cell_type": "code",
   "execution_count": 2,
   "metadata": {},
   "outputs": [],
   "source": [
    "import os\n",
    "import glob\n",
    "import psycopg2\n",
    "import pandas as pd\n",
    "from sql_queries import *"
   ]
  },
  {
   "cell_type": "code",
   "execution_count": 98,
   "metadata": {},
   "outputs": [],
   "source": [
    "filepath = \"data/profile/profile.json\"\n",
    "df = pd.read_json(filepath)"
   ]
  },
  {
   "cell_type": "code",
   "execution_count": 99,
   "metadata": {},
   "outputs": [
    {
     "data": {
      "text/plain": [
       "(3914, 3)"
      ]
     },
     "execution_count": 99,
     "metadata": {},
     "output_type": "execute_result"
    }
   ],
   "source": [
    "df.shape"
   ]
  },
  {
   "cell_type": "code",
   "execution_count": 86,
   "metadata": {},
   "outputs": [],
   "source": [
    "df = df.dropna(subset=['user_name'])"
   ]
  },
  {
   "cell_type": "code",
   "execution_count": 87,
   "metadata": {},
   "outputs": [
    {
     "data": {
      "text/plain": [
       "(3913, 3)"
      ]
     },
     "execution_count": 87,
     "metadata": {},
     "output_type": "execute_result"
    }
   ],
   "source": [
    "df.shape"
   ]
  },
  {
   "cell_type": "code",
   "execution_count": 88,
   "metadata": {},
   "outputs": [],
   "source": [
    "df['followers'].fillna('0 follower', inplace=True)"
   ]
  },
  {
   "cell_type": "code",
   "execution_count": 90,
   "metadata": {},
   "outputs": [],
   "source": [
    "df['followers'] = df['followers'].str.split(' ').str[0]"
   ]
  },
  {
   "cell_type": "code",
   "execution_count": 92,
   "metadata": {},
   "outputs": [],
   "source": [
    "def convert_followers(x):\n",
    "        if x[-1] == 'K':\n",
    "            x = int(float(x[:-1]) * 1000)\n",
    "        else:   \n",
    "            x = int(x)\n",
    "        return x\n",
    "    \n",
    "df['followers'] = df['followers'].apply(convert_followers)"
   ]
  },
  {
   "cell_type": "code",
   "execution_count": 94,
   "metadata": {},
   "outputs": [
    {
     "data": {
      "text/plain": [
       "(3913, 3)"
      ]
     },
     "execution_count": 94,
     "metadata": {},
     "output_type": "execute_result"
    }
   ],
   "source": [
    "df.shape"
   ]
  },
  {
   "cell_type": "code",
   "execution_count": 93,
   "metadata": {},
   "outputs": [
    {
     "data": {
      "text/html": [
       "<div>\n",
       "<style scoped>\n",
       "    .dataframe tbody tr th:only-of-type {\n",
       "        vertical-align: middle;\n",
       "    }\n",
       "\n",
       "    .dataframe tbody tr th {\n",
       "        vertical-align: top;\n",
       "    }\n",
       "\n",
       "    .dataframe thead th {\n",
       "        text-align: right;\n",
       "    }\n",
       "</style>\n",
       "<table border=\"1\" class=\"dataframe\">\n",
       "  <thead>\n",
       "    <tr style=\"text-align: right;\">\n",
       "      <th></th>\n",
       "      <th>user_name</th>\n",
       "      <th>desc</th>\n",
       "      <th>followers</th>\n",
       "    </tr>\n",
       "  </thead>\n",
       "  <tbody>\n",
       "    <tr>\n",
       "      <th>518</th>\n",
       "      <td>Trishan Panch</td>\n",
       "      <td>Co-Founder, Chief Medical Officer and Board Di...</td>\n",
       "      <td>97</td>\n",
       "    </tr>\n",
       "    <tr>\n",
       "      <th>1608</th>\n",
       "      <td>Kacper Kubara</td>\n",
       "      <td>MSc in Artificial Intelligence at the Universi...</td>\n",
       "      <td>0</td>\n",
       "    </tr>\n",
       "    <tr>\n",
       "      <th>933</th>\n",
       "      <td>Lara PuReum Yim</td>\n",
       "      <td>Data Science &amp; Analytics || International Publ...</td>\n",
       "      <td>79</td>\n",
       "    </tr>\n",
       "    <tr>\n",
       "      <th>3203</th>\n",
       "      <td>Parijat Bhatt</td>\n",
       "      <td>Machine Learning enthusiast |</td>\n",
       "      <td>220</td>\n",
       "    </tr>\n",
       "    <tr>\n",
       "      <th>3665</th>\n",
       "      <td>Ibai Gorordo</td>\n",
       "      <td>I am a doctoral student at the Kyushu Institut...</td>\n",
       "      <td>14</td>\n",
       "    </tr>\n",
       "    <tr>\n",
       "      <th>759</th>\n",
       "      <td>Shikhar Gupta</td>\n",
       "      <td>Applied scientist @Amazon, USF MSDS &amp; IIT Roor...</td>\n",
       "      <td>557</td>\n",
       "    </tr>\n",
       "    <tr>\n",
       "      <th>3327</th>\n",
       "      <td>Jessie J. Smith</td>\n",
       "      <td>PhD Student, Researching and Creating Technica...</td>\n",
       "      <td>329</td>\n",
       "    </tr>\n",
       "    <tr>\n",
       "      <th>2161</th>\n",
       "      <td>Santosh Yadaw</td>\n",
       "      <td>Physics Graduate | Engineer | Curious about AI...</td>\n",
       "      <td>4</td>\n",
       "    </tr>\n",
       "    <tr>\n",
       "      <th>611</th>\n",
       "      <td>Eric Luellen</td>\n",
       "      <td>Eric Luellen is an award-winning chief data sc...</td>\n",
       "      <td>308</td>\n",
       "    </tr>\n",
       "    <tr>\n",
       "      <th>2964</th>\n",
       "      <td>Mohd Zuhaib</td>\n",
       "      <td>Tech Enthusiast | Love working with data | Try...</td>\n",
       "      <td>8</td>\n",
       "    </tr>\n",
       "    <tr>\n",
       "      <th>1134</th>\n",
       "      <td>Kate Bäumli</td>\n",
       "      <td>None</td>\n",
       "      <td>342</td>\n",
       "    </tr>\n",
       "    <tr>\n",
       "      <th>1172</th>\n",
       "      <td>Ke Zhang</td>\n",
       "      <td>Data Science, SAAS, Business Development, Prod...</td>\n",
       "      <td>40</td>\n",
       "    </tr>\n",
       "    <tr>\n",
       "      <th>274</th>\n",
       "      <td>Sampanna Sharma</td>\n",
       "      <td>None</td>\n",
       "      <td>9</td>\n",
       "    </tr>\n",
       "    <tr>\n",
       "      <th>1923</th>\n",
       "      <td>Manish Sharma</td>\n",
       "      <td>U Waterloo | Unige Switzerland| IIT Bombay: A ...</td>\n",
       "      <td>47</td>\n",
       "    </tr>\n",
       "    <tr>\n",
       "      <th>3562</th>\n",
       "      <td>CJ Sullivan</td>\n",
       "      <td>Data Science Advocate at Neo4j, Founder of La ...</td>\n",
       "      <td>132</td>\n",
       "    </tr>\n",
       "    <tr>\n",
       "      <th>185</th>\n",
       "      <td>Paul-Louis Pröve</td>\n",
       "      <td>AI @ Lufthansa</td>\n",
       "      <td>998</td>\n",
       "    </tr>\n",
       "    <tr>\n",
       "      <th>3804</th>\n",
       "      <td>Daniel Crowe</td>\n",
       "      <td>Small Pieces Loosely Joined | Global Community...</td>\n",
       "      <td>52</td>\n",
       "    </tr>\n",
       "    <tr>\n",
       "      <th>427</th>\n",
       "      <td>Jeremiah Coleman</td>\n",
       "      <td>Telling stories with data and engineering</td>\n",
       "      <td>93</td>\n",
       "    </tr>\n",
       "    <tr>\n",
       "      <th>88</th>\n",
       "      <td>Kaustubh N</td>\n",
       "      <td>Tinkerer, Machine Learning, Technology and Pas...</td>\n",
       "      <td>127</td>\n",
       "    </tr>\n",
       "    <tr>\n",
       "      <th>1416</th>\n",
       "      <td>Kyle Gallatin</td>\n",
       "      <td>Software Engineer for ML Infra. Building scala...</td>\n",
       "      <td>1950</td>\n",
       "    </tr>\n",
       "    <tr>\n",
       "      <th>2323</th>\n",
       "      <td>Rachel Zhiqing Zheng</td>\n",
       "      <td>Passionate Data Scientist | Enjoy learning and...</td>\n",
       "      <td>32</td>\n",
       "    </tr>\n",
       "    <tr>\n",
       "      <th>1893</th>\n",
       "      <td>John Oh</td>\n",
       "      <td>Storytelling with Data</td>\n",
       "      <td>27</td>\n",
       "    </tr>\n",
       "    <tr>\n",
       "      <th>1207</th>\n",
       "      <td>Jason Costello</td>\n",
       "      <td>Scottish data guy</td>\n",
       "      <td>2</td>\n",
       "    </tr>\n",
       "    <tr>\n",
       "      <th>778</th>\n",
       "      <td>Eryk Lewinson</td>\n",
       "      <td>Data Scientist, ML/DL enthusiast, quantitative...</td>\n",
       "      <td>0</td>\n",
       "    </tr>\n",
       "    <tr>\n",
       "      <th>1785</th>\n",
       "      <td>Timothy Tan</td>\n",
       "      <td>A data science enthusiast who loves to researc...</td>\n",
       "      <td>174</td>\n",
       "    </tr>\n",
       "    <tr>\n",
       "      <th>3025</th>\n",
       "      <td>Sylvester Cardorelle</td>\n",
       "      <td>None</td>\n",
       "      <td>26</td>\n",
       "    </tr>\n",
       "    <tr>\n",
       "      <th>908</th>\n",
       "      <td>Amjad Abu-Rmileh</td>\n",
       "      <td>Data scientist and machine learning researcher...</td>\n",
       "      <td>300</td>\n",
       "    </tr>\n",
       "    <tr>\n",
       "      <th>1097</th>\n",
       "      <td>pauline chow</td>\n",
       "      <td>Data scientist and former public interest atto...</td>\n",
       "      <td>133</td>\n",
       "    </tr>\n",
       "    <tr>\n",
       "      <th>3681</th>\n",
       "      <td>Grzegorz Meller</td>\n",
       "      <td>Data Engineering student at Gdansk University ...</td>\n",
       "      <td>2</td>\n",
       "    </tr>\n",
       "    <tr>\n",
       "      <th>163</th>\n",
       "      <td>Mason Hall</td>\n",
       "      <td>Blockchain Researcher | ex-Consensys VC intern...</td>\n",
       "      <td>63</td>\n",
       "    </tr>\n",
       "  </tbody>\n",
       "</table>\n",
       "</div>"
      ],
      "text/plain": [
       "                 user_name                                               desc  \\\n",
       "518          Trishan Panch  Co-Founder, Chief Medical Officer and Board Di...   \n",
       "1608         Kacper Kubara  MSc in Artificial Intelligence at the Universi...   \n",
       "933        Lara PuReum Yim  Data Science & Analytics || International Publ...   \n",
       "3203         Parijat Bhatt                     Machine Learning enthusiast |    \n",
       "3665          Ibai Gorordo  I am a doctoral student at the Kyushu Institut...   \n",
       "759          Shikhar Gupta  Applied scientist @Amazon, USF MSDS & IIT Roor...   \n",
       "3327       Jessie J. Smith  PhD Student, Researching and Creating Technica...   \n",
       "2161         Santosh Yadaw  Physics Graduate | Engineer | Curious about AI...   \n",
       "611           Eric Luellen  Eric Luellen is an award-winning chief data sc...   \n",
       "2964           Mohd Zuhaib  Tech Enthusiast | Love working with data | Try...   \n",
       "1134           Kate Bäumli                                               None   \n",
       "1172              Ke Zhang  Data Science, SAAS, Business Development, Prod...   \n",
       "274        Sampanna Sharma                                               None   \n",
       "1923         Manish Sharma  U Waterloo | Unige Switzerland| IIT Bombay: A ...   \n",
       "3562           CJ Sullivan  Data Science Advocate at Neo4j, Founder of La ...   \n",
       "185       Paul-Louis Pröve                                     AI @ Lufthansa   \n",
       "3804          Daniel Crowe  Small Pieces Loosely Joined | Global Community...   \n",
       "427       Jeremiah Coleman          Telling stories with data and engineering   \n",
       "88              Kaustubh N  Tinkerer, Machine Learning, Technology and Pas...   \n",
       "1416         Kyle Gallatin  Software Engineer for ML Infra. Building scala...   \n",
       "2323  Rachel Zhiqing Zheng  Passionate Data Scientist | Enjoy learning and...   \n",
       "1893               John Oh                             Storytelling with Data   \n",
       "1207        Jason Costello                                  Scottish data guy   \n",
       "778          Eryk Lewinson  Data Scientist, ML/DL enthusiast, quantitative...   \n",
       "1785           Timothy Tan  A data science enthusiast who loves to researc...   \n",
       "3025  Sylvester Cardorelle                                               None   \n",
       "908       Amjad Abu-Rmileh  Data scientist and machine learning researcher...   \n",
       "1097          pauline chow  Data scientist and former public interest atto...   \n",
       "3681       Grzegorz Meller  Data Engineering student at Gdansk University ...   \n",
       "163             Mason Hall  Blockchain Researcher | ex-Consensys VC intern...   \n",
       "\n",
       "      followers  \n",
       "518          97  \n",
       "1608          0  \n",
       "933          79  \n",
       "3203        220  \n",
       "3665         14  \n",
       "759         557  \n",
       "3327        329  \n",
       "2161          4  \n",
       "611         308  \n",
       "2964          8  \n",
       "1134        342  \n",
       "1172         40  \n",
       "274           9  \n",
       "1923         47  \n",
       "3562        132  \n",
       "185         998  \n",
       "3804         52  \n",
       "427          93  \n",
       "88          127  \n",
       "1416       1950  \n",
       "2323         32  \n",
       "1893         27  \n",
       "1207          2  \n",
       "778           0  \n",
       "1785        174  \n",
       "3025         26  \n",
       "908         300  \n",
       "1097        133  \n",
       "3681          2  \n",
       "163          63  "
      ]
     },
     "execution_count": 93,
     "metadata": {},
     "output_type": "execute_result"
    }
   ],
   "source": [
    "df.sample(30)"
   ]
  },
  {
   "cell_type": "code",
   "execution_count": 17,
   "metadata": {},
   "outputs": [],
   "source": [
    "item_1, item_2, item3 = df.values[0]"
   ]
  },
  {
   "cell_type": "code",
   "execution_count": 18,
   "metadata": {},
   "outputs": [
    {
     "data": {
      "text/plain": [
       "'Raphael Fix'"
      ]
     },
     "execution_count": 18,
     "metadata": {},
     "output_type": "execute_result"
    }
   ],
   "source": [
    "item_1"
   ]
  },
  {
   "cell_type": "code",
   "execution_count": null,
   "metadata": {},
   "outputs": [],
   "source": []
  }
 ],
 "metadata": {
  "kernelspec": {
   "display_name": "Python 3",
   "language": "python",
   "name": "python3"
  },
  "language_info": {
   "codemirror_mode": {
    "name": "ipython",
    "version": 3
   },
   "file_extension": ".py",
   "mimetype": "text/x-python",
   "name": "python",
   "nbconvert_exporter": "python",
   "pygments_lexer": "ipython3",
   "version": "3.7.4"
  }
 },
 "nbformat": 4,
 "nbformat_minor": 2
}
